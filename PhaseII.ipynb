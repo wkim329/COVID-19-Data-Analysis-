{
 "cells": [
  {
   "cell_type": "markdown",
   "metadata": {
    "id": "GJ4Xt1uf1LT7"
   },
   "source": [
    "# Final Project Phase 2 Summary\n",
    "This Jupyter Notebook (.ipynb) will serve as the skeleton file for your submission for Phase 2 of the Final Project. Complete all sections below as specified in the instructions for the project, covering all necessary details. <b>Make sure that on every segment of code you write, you include an author tag (see below)</b>. We will use this to grade your individual code (Do this whether you are in a group or not). Good luck! <br><br>\n",
    "\n",
    "Note: To edit a Markdown cell, double-click on its text."
   ]
  },
  {
   "cell_type": "markdown",
   "metadata": {
    "id": "tjB_SbWY1LUB"
   },
   "source": [
    "## Jupyter Notebook Quick Tips\n",
    "Here are some quick formatting tips to get you started with Jupyter Notebooks. This is by no means exhaustive, and there are plenty of articles to highlight other things that can be done. We recommend using HTML syntax for Markdown but there is also Markdown syntax that is more streamlined and might be preferable. \n",
    "<a href = \"https://towardsdatascience.com/markdown-cells-jupyter-notebook-d3bea8416671\">Here's an article</a> that goes into more detail. (Double-click on cell to see syntax)\n",
    "\n",
    "# Heading 1\n",
    "## Heading 2\n",
    "### Heading 3\n",
    "#### Heading 4\n",
    "<br>\n",
    "<b>BoldText</b> or <i>ItalicText</i>\n",
    "<br> <br>\n",
    "Math Formulas: $x^2 + y^2 = 1$\n",
    "<br> <br>\n",
    "Line Breaks are done using br enclosed in < >.\n",
    "<br><br>\n",
    "Hyperlinks are done with: <a> https://www.google.com </a> or \n",
    "<a href=\"http://www.google.com\">Google</a><br>"
   ]
  },
  {
   "cell_type": "markdown",
   "metadata": {
    "id": "tb9oVjpRDswQ"
   },
   "source": [
    "# Data Collection and Cleaning\n",
    "\n",
    "\n",
    "Transfer/update the data collection and cleaning you created for Phase I below. You may include additional cleaning functions if you have extra datasets. \n"
   ]
  },
  {
   "cell_type": "markdown",
   "metadata": {
    "id": "9mRjxZDbE1tj"
   },
   "source": [
    "## Downloaded Dataset Requirement\n",
    "\n"
   ]
  },
  {
   "cell_type": "code",
   "execution_count": null,
   "metadata": {
    "id": "0p5xxmqzFGrO"
   },
   "outputs": [],
   "source": [
    "import pandas as pd\n",
    "import numpy as np\n",
    "from pprint import pprint\n",
    "\n",
    "def data_parser1(filename):\n",
    "    df=pd.read_csv(filename)\n",
    "    \n",
    "    del df[\"Suppress\"]\n",
    "    del df[\"Note\"]\n",
    "    del df[\"Percent Excess Lower Estimate\"]\n",
    "    del df[\"Percent Excess Higher Estimate\"]\n",
    "    del df[\"Type\"]\n",
    "    del df[\"Outcome\"]\n",
    "    \n",
    "    df.replace(\"\",\"N/A\") #replaces empty cells with \"N/A\"\n",
    "    df.replace(np.nan,\"N/A\") #replaces NaN values with \"N/A\"\n",
    "    df.replace(',','', regex=True, inplace=True) #removes all commas in order to convert to float\n",
    "    df['Observed Number'] = df['Observed Number'].astype(float)\n",
    "    df['Upper Bound Threshold'] = df['Upper Bound Threshold'].astype(float)\n",
    "    df['Average Expected Count'] = df['Average Expected Count'].astype(float)\n",
    "    df['Excess Lower Estimate'] = df['Excess Lower Estimate'].astype(float)\n",
    "    df['Excess Higher Estimate'] = df['Excess Higher Estimate'].astype(float)\n",
    "    df['Total Excess Lower Estimate in 2020'] = df['Total Excess Lower Estimate in 2020'].astype(float)\n",
    "    df['Total Excess Higher Estimate in 2020'] = df['Total Excess Higher Estimate in 2020'].astype(float)\n",
    "    \n",
    "    AllCauses=df[:10584] #splits data by ALl Causes of Death\n",
    "    ExceptCOVID=df[10584:21168] #splits data by All Causes of Death except COVID\n",
    "    \n",
    "    \n",
    "    writer=pd.ExcelWriter(r'C:\\Users\\wkimm\\OneDrive\\Documents\\GT Fall 2020\\CS 2316\\Final Project\\ExcessDeaths.xlsx')\n",
    "    AllCauses.to_excel(writer,sheet_name=\"AllCauses\",index=False) \n",
    "    ExceptCOVID.to_excel(writer,sheet_name=\"ExceptCOVID\",index=False) \n",
    "    writer.save()\n",
    "    \n",
    "    pass\n",
    "  \n",
    "\n",
    "############ Function Call ############\n",
    "pprint(data_parser1(\"Excess_Deaths_Associated_with_COVID-19.csv\"))"
   ]
  },
  {
   "cell_type": "code",
   "execution_count": 17,
   "metadata": {},
   "outputs": [
    {
     "name": "stdout",
     "output_type": "stream",
     "text": [
      "None\n"
     ]
    }
   ],
   "source": [
    "import pandas as pd\n",
    "from pprint import pprint\n",
    "\n",
    "def data_parser2(filename):\n",
    "    df=pd.read_excel(filename,sheet_name=\"Table 1\")\n",
    "    df.drop(df.index[[0,1,2,63]], inplace=True)\n",
    "    df.replace('.......','N/A', inplace=True)\n",
    "    \n",
    "    df.rename(columns={'Table 1. Percent Change in Real Gross Domestic Product (GDP) by State and Region, 2019:Q1-2020:Q2':'Region/State','Unnamed: 1':'2019','Unnamed: 2':'2019Q1','Unnamed: 3':'2019Q2','Unnamed: 4':'2019Q3','Unnamed: 5':'2019Q4','Unnamed: 6':'2020Q1','Unnamed: 7':'2020Q2','Unnamed: 8':'2020Q2 Rank'}, inplace=True )\n",
    "    \n",
    "    del df[\"2019\"]\n",
    "    \n",
    "    df['2019Q1'] = df['2019Q1'].astype(float)\n",
    "    df['2019Q2'] = df['2019Q2'].astype(float)\n",
    "    df['2019Q3'] = df['2019Q3'].astype(float)\n",
    "    df['2019Q4'] = df['2019Q4'].astype(float)\n",
    "    df['2020Q1'] = df['2020Q1'].astype(float)\n",
    "    df['2020Q2'] = df['2020Q2'].astype(float)\n",
    "    \n",
    "    writer=pd.ExcelWriter(r'C:\\Users\\wkimm\\OneDrive\\Documents\\GT Fall 2020\\CS 2316\\Final Project\\StateRGDP%Change.xlsx')\n",
    "    df.to_excel(writer,index=False) \n",
    "    writer.save()\n",
    "    \n",
    "    pass\n",
    "\n",
    "\n",
    "############ Function Call ############\n",
    "pprint((data_parser2(\"qgdpstate1020_0.xlsx\")))"
   ]
  },
  {
   "cell_type": "code",
   "execution_count": 18,
   "metadata": {},
   "outputs": [
    {
     "name": "stdout",
     "output_type": "stream",
     "text": [
      "None\n"
     ]
    }
   ],
   "source": [
    "import pandas as pd\n",
    "from pprint import pprint\n",
    "\n",
    "def data_parser3(filename):\n",
    "    df=pd.read_csv(filename)\n",
    "    df['UNRATE'] = df['UNRATE'].astype(float) #changes all UR to floats\n",
    "    df.to_excel(r'C:\\Users\\wkimm\\OneDrive\\Documents\\GT Fall 2020\\CS 2316\\Final Project\\NationalUR%LF.xlsx',index=False,header=True) #writes df to excel file\n",
    "    \n",
    "    pass\n",
    "\n",
    "\n",
    "############ Function Call ############\n",
    "pprint((data_parser3(\"UNRATE.csv\")))"
   ]
  },
  {
   "cell_type": "code",
   "execution_count": 26,
   "metadata": {},
   "outputs": [
    {
     "name": "stdout",
     "output_type": "stream",
     "text": [
      "None\n"
     ]
    }
   ],
   "source": [
    "import pandas as pd\n",
    "from pprint import pprint\n",
    "\n",
    "def data_parser4(filename):\n",
    "    df=pd.read_csv(filename)\n",
    "    df['GDPC1'] = df['GDPC1'].astype(float) #changes all UR to floats\n",
    "    df.columns=[\"Date\",\"RDGP(Billions of $)\"] #changes column headers\n",
    "    df.to_excel(r'C:\\Users\\wkimm\\OneDrive\\Documents\\GT Fall 2020\\CS 2316\\Final Project\\NationalRGDP.xlsx',index=False,header=True) #writes df to excel file\n",
    "    \n",
    "    pass\n",
    "\n",
    "  \n",
    "############ Function Call ############\n",
    "pprint((data_parser4(\"GDPC1.csv\")))"
   ]
  },
  {
   "cell_type": "markdown",
   "metadata": {
    "id": "794L4vGXFdYw"
   },
   "source": [
    "## Web Collection Requirement \\#1\n"
   ]
  },
  {
   "cell_type": "code",
   "execution_count": 41,
   "metadata": {
    "id": "vXwpJObDFiWM"
   },
   "outputs": [
    {
     "name": "stdout",
     "output_type": "stream",
     "text": [
      "None\n"
     ]
    }
   ],
   "source": [
    "import json,requests,re\n",
    "import pandas as pd\n",
    "from pprint import pprint\n",
    "\n",
    "def web_parser1(url):\n",
    "    r = requests.get(url)\n",
    "    data = r.json()\n",
    "    stats=[] #column headers\n",
    "    for stat in data[0].keys():\n",
    "        stats.append(stat)\n",
    "        \n",
    "    for index,date in enumerate(data):\n",
    "        if date[\"date\"]==20200227:\n",
    "            del data[index+1:] #dels all dates before massive increase(outliers) in test and postive cases\n",
    "        \n",
    "    for date in data:\n",
    "        for stat in stats:\n",
    "            if stat==\"date\":\n",
    "                date.pop(stat) #removes\"date\" column\n",
    "            if stat==\"posNeg\":\n",
    "                date.pop(stat) #removes \"posNeg\" column \n",
    "            if stat==\"hash\":\n",
    "                date.pop(stat) #removes \"hash\" column\n",
    "            if stat==\"hospitalized\": \n",
    "                date.pop(stat) #removes \"hospitalized\" column\n",
    "            if stat==\"total\":\n",
    "                date.pop(stat) #removes \"total\" column\n",
    "            if stat==\"lastModified\": #removes\"lastModified\" column\n",
    "                date.pop(stat)\n",
    "            if stat==\"states\":\n",
    "                date[\"states/territories\"]=date.pop(stat) #clarifies that stat includes US territories\n",
    "            if stat==\"dateChecked\":\n",
    "                m=re.search(r\"(.*?)T00:00:00Z\",date[stat])\n",
    "                if m:\n",
    "                    f=m.group(1)\n",
    "                    date[stat]=f #gets rid of the hours:mins:seconds of the date\n",
    "            if stat==\"death\":\n",
    "                date[\"totaldeaths\"]=date.pop(stat) #each one renames the column header\n",
    "            if stat==\"positive\":\n",
    "                date[\"totalpositivecases\"]=date.pop(stat)\n",
    "            if stat==\"negative\":\n",
    "                date[\"totalnegativecases\"]=date.pop(stat)\n",
    "            if stat==\"hospitalizedCumulative\":\n",
    "                date[\"totalhospitalized\"]=date.pop(stat)\n",
    "            if stat==\"inIcuCumulative\":\n",
    "                date[\"totalinIcu\"]=date.pop(stat)\n",
    "            if stat==\"onVentilatorCumulative\":\n",
    "                date[\"totalonVentilator\"]=date.pop(stat)\n",
    "            if stat==\"recovered\":\n",
    "                date[\"totalrecovered\"]=date.pop(stat)\n",
    "                \n",
    "    for date in data:\n",
    "        for key,val in date.items():\n",
    "            if val==None:\n",
    "                date[key]=0 #replaces all None values with 0\n",
    "                \n",
    "    listoflistvalues=[] #rows of the df\n",
    "    for date in data:\n",
    "        dictvalist=[]\n",
    "        for key,value in date.items():\n",
    "            dictvalist.append(value)\n",
    "        listoflistvalues.append(dictvalist)\n",
    "        \n",
    "    df=pd.DataFrame(listoflistvalues,columns=data[0].keys()) #creates df\n",
    "    df.sort_index(axis=1,inplace=True) #sorts df by column headers\n",
    "    df.to_excel(r'C:\\Users\\wkimm\\OneDrive\\Documents\\GT Fall 2020\\CS 2316\\Final Project\\NationalStats.xlsx',index=False,header=True) #writes df to excel file\n",
    "    \n",
    "    pass\n",
    "\n",
    "\n",
    "############ Function Call ############\n",
    "pprint((web_parser1(\"https://api.covidtracking.com/v1/us/daily.json\")))"
   ]
  },
  {
   "cell_type": "markdown",
   "metadata": {
    "id": "OTRqdBG6sSvu"
   },
   "source": [
    "## Web Collection Requirement #2"
   ]
  },
  {
   "cell_type": "code",
   "execution_count": 20,
   "metadata": {
    "id": "YtV_MYeusYDd"
   },
   "outputs": [
    {
     "name": "stdout",
     "output_type": "stream",
     "text": [
      "None\n"
     ]
    }
   ],
   "source": [
    "import requests,re\n",
    "from bs4 import BeautifulSoup\n",
    "import pandas as pd\n",
    "from pprint import pprint\n",
    "\n",
    "def web_parser2(url):\n",
    "    resp = requests.get(url)\n",
    "    soup = BeautifulSoup(resp.text, \"html.parser\")\n",
    "    \n",
    "    tablehead=soup.find(\"thead\")\n",
    "    headertag=tablehead.find_all(\"th\")\n",
    "    headers=[header.text for header in headertag] #list of headers\n",
    "    del headers[10:]\n",
    "    \n",
    "    tablebody=soup.find(\"tbody\")\n",
    "    statetags=tablebody.find_all(\"tr\")\n",
    "    statesubtag=[state for state in statetags]\n",
    "    statestatlist=[]\n",
    "    for state in statesubtag:\n",
    "        m=re.findall(r\">(.*?)</td>\",str(state))\n",
    "        statestatlist.append(m) #list of lists of states and UR per month\n",
    "        \n",
    "    p=re.search(r\"<p>(.*?)</p>\",str(statesubtag[1])) \n",
    "    alaskafeb=p.group(1)\n",
    "    statestatlist[1].insert(2,alaskafeb) #handles Alaska Feb rate subtag exception\n",
    "        \n",
    "    for state in statestatlist:\n",
    "        del state[10:] #handles Oct-Dec\n",
    "        for index,stat in enumerate(state):\n",
    "            if stat=='\\xa0':\n",
    "                state[index]=\"N/A\" #converts all empty spaces to \"N/A\"\n",
    "            if stat.isdigit():\n",
    "                newstat=float(stat)\n",
    "                strfloat=str(newstat)\n",
    "                state[index]=strfloat #converts all non floats to floats and then back to strings\n",
    "            if stat[0].isdigit():\n",
    "                floatstat=float(stat)\n",
    "                state[index]=floatstat #converts all data to floats\n",
    "        \n",
    "    df=pd.DataFrame(statestatlist,columns=headers) #creates df\n",
    "    df.to_excel(r'C:\\Users\\wkimm\\OneDrive\\Documents\\GT Fall 2020\\CS 2316\\Final Project\\StateUR%LF.xlsx',index=False,header=True) #writes df to excel file\n",
    "    \n",
    "    pass\n",
    "\n",
    "\n",
    "############ Function Call ############\n",
    "pprint(web_parser2(\"https://www.ncsl.org/research/labor-and-employment/state-unemployment-update.aspx\"))"
   ]
  },
  {
   "cell_type": "markdown",
   "metadata": {
    "id": "E5IgIeLI9Kw2"
   },
   "source": [
    "#Inconsistency Revisions\n",
    " **If you were requested to revise your inconsistency section from Phase I, enter your responses here. Otherwise, ignore this section.**\n",
    "\n",
    "For each inconsistency (NaN, null, duplicate values, empty strings, etc.) you discover in your datasets, write at least 2 sentences stating the significance, how you identified it, and how you handled it.\n",
    "\n",
    "1. \n",
    "\n",
    "2. \n",
    "\n",
    "3. \n",
    "\n",
    "4. (if applicable)\n",
    "\n",
    "5. (if applicable)\n"
   ]
  },
  {
   "cell_type": "markdown",
   "metadata": {
    "id": "8SQxJGDUs1gw"
   },
   "source": [
    "## Data Sources\n",
    "\n",
    "Include sources (as links) to your datasets.\n",
    "\n",
    "*   Downloaded Dataset Source:1. https://data.cdc.gov/NCHS/Excess-Deaths-Associated-with-COVID-19/xkkf-xrst 2. https://www.bea.gov/data/gdp/gdp-state 3. https://fred.stlouisfed.org/series/UNRATE 4. https://fred.stlouisfed.org/series/GDPC1\n",
    "*   Web Collection #1 Source: https://covidtracking.com/data/national ,API:https://api.covidtracking.com/v1/us/daily.json\n",
    "*   Web Collection #2 Source: https://www.ncsl.org/research/labor-and-employment/state-unemployment-update.aspx\n",
    "\n",
    "\n"
   ]
  },
  {
   "cell_type": "markdown",
   "metadata": {
    "id": "A-CWo6kwvFvS"
   },
   "source": [
    "# Data Analysis\n",
    "For the Data Analysis section, you are required to utilize your data to complete the following:\n",
    "\n",
    "*   Create at least 5 insights\n",
    "*   Generate at least 3 data visualizations\n",
    "*   Export aggregated data to at least 2 summary files \n",
    "\n",
    "Create a function for each of the following sections mentioned above. Do not forget to fill out the explanation section for each function. \n",
    "\n",
    "Make sure your data analysis is not too simple. Performing complex aggregation and using modules not taught in class shows effort, which will increase the chance of receiving full credit. "
   ]
  },
  {
   "cell_type": "markdown",
   "metadata": {
    "id": "7GzggCBoxwGA"
   },
   "source": [
    "# Graphical User Interface (GUI) Implementation\n",
    "If you decide to create a GUI for Phase II, please create a separate Python file (.py) to build your GUI. You must submit both the completed PhaseII.ipynb and your Python GUI file."
   ]
  },
  {
   "cell_type": "markdown",
   "metadata": {
    "id": "VWv36q-Owkbi"
   },
   "source": [
    "## Insights"
   ]
  },
  {
   "cell_type": "code",
   "execution_count": 109,
   "metadata": {
    "id": "0J5Z3M84wmaY"
   },
   "outputs": [
    {
     "name": "stdout",
     "output_type": "stream",
     "text": [
      "{229238: (402127, 433614), '2.35%': ('4.05%', '4.35%')}\n"
     ]
    }
   ],
   "source": [
    "import pandas as pd\n",
    "from pprint import pprint\n",
    "\n",
    "def insight1(filename1,filename2):\n",
    "    finaldict={}\n",
    "    ACdf=pd.read_excel(filename1,sheet_name=\"AllCauses\")\n",
    "    ECdf=pd.read_excel(filename1,sheet_name=\"ExceptCOVID\")\n",
    "    NSdf=pd.read_excel(filename2,sheet_name=\"Sheet1\")\n",
    "    \n",
    "    RecDeaths=NSdf[\"totaldeaths\"].iloc[0] #recorded death total\n",
    "    TotalPos=NSdf[\"totalpositivecases\"].iloc[0] #total positive cases\n",
    "    RecDR=str(round((RecDeaths/TotalPos),4)*100)+\"%\"\n",
    "    \n",
    "    ACLow=[]\n",
    "    ACLowTotal=0\n",
    "    ACHigh=[]\n",
    "    ACHighTotal=0\n",
    "    ECLow=[]\n",
    "    ECLowTotal=0\n",
    "    ECHigh=[]\n",
    "    ECHighTotal=0\n",
    "    \n",
    "    for val in ACdf[\"Total Excess Lower Estimate in 2020\"]:\n",
    "        if val not in ACLow:\n",
    "            ACLow.append(val)\n",
    "    ACLow.remove(231952)\n",
    "    for val in ACLow:\n",
    "        ACLowTotal+=val\n",
    "    \n",
    "    for val in ACdf[\"Total Excess Higher Estimate in 2020\"]:\n",
    "        if val not in ACHigh:\n",
    "            ACHigh.append(val)\n",
    "    ACHigh.remove(311882)\n",
    "    ACHigh.insert(37,2097)\n",
    "    for val in ACHigh:\n",
    "        ACHighTotal+=val\n",
    "    \n",
    "    \n",
    "    for val in ECdf[\"Total Excess Lower Estimate in 2020\"]:\n",
    "        if val not in ECLow:\n",
    "            ECLow.append(val)\n",
    "    ECLow.remove(33782)\n",
    "    ECLow.insert(35,9)\n",
    "    ECLow.insert(47,89)\n",
    "    ECLow.insert(51,34)\n",
    "    for val in ECLow:\n",
    "        ECLowTotal+=val\n",
    "           \n",
    "    for val in ECdf[\"Total Excess Higher Estimate in 2020\"]:\n",
    "        if val not in ECHigh:\n",
    "            ECHigh.append(val)\n",
    "    ECHigh.remove(108102)\n",
    "    for val in ECHigh:\n",
    "        ECHighTotal+=val\n",
    "    \n",
    "    ECOVIDLow=ACLowTotal-ECLowTotal\n",
    "    ECOVIDHigh=ACHighTotal-ECHighTotal\n",
    "    LDT=ECOVIDLow+RecDeaths\n",
    "    HDT=ECOVIDHigh+RecDeaths\n",
    "    TDeathTuple=(LDT,HDT)\n",
    "    LDR=str(round(LDT/(ECOVIDLow+TotalPos),4)*100)+\"%\"\n",
    "    HDR=str(round(HDT/(ECOVIDHigh+TotalPos),4)*100)+\"%\"\n",
    "    DRTuple=(LDR,HDR)\n",
    "    finaldict[RecDeaths]=TDeathTuple\n",
    "    finaldict[RecDR]=DRTuple\n",
    "    return finaldict\n",
    "\n",
    "    pass\n",
    "\n",
    "    \n",
    "############ Function Call ############\n",
    "pprint(insight1(\"ExcessDeaths.xlsx\",\"NationalStats.xlsx\"))"
   ]
  },
  {
   "cell_type": "markdown",
   "metadata": {
    "id": "54oggrpbw6TX"
   },
   "source": [
    "### Insight 1 Explanation\n",
    "\n",
    "The total number of deaths and death rate are the most reliable statistics when counting the total number of cases and are arguably two of the most important stats that define the impact of COVID-19. Therefore, it is extremely critical to obtain a more accurate value for both the national total number of deaths and the national death rate. This insight returns a dictionary. The first pair represents the comparison between the recorded number of deaths(key) and the lower and higher estimate of the actual total number of deaths(value). I calculated this by adding up the value for the 'Total Excess Lower Estimate in 2020' column and 'Total Excess Higher Estimate in 2020' column in the 'AllCauses' sheet in 'ExcessDeaths.xlsx' for each state. I completed the same process in the 'ExceptCOVID' sheet and then subtracted these values from the corresponding values in the 'AllCauses' sheet in order to get the total number of deaths inclusively related to COVID-19. Then I added each value to the current recorded death total in 'NationalStats.xlsx'. The second pair represents the comparison between the recorded death rate(key) and the lower and higher estimated actual death rate(value) using the values from the first pair. Each death rate was found by taking the values in from the previous pair and dividing by the lower and higher estimated number of excess deaths related to the virus plus the total number of positive cases. I rounded each result to 4 decimal places and multiplied by 100 to get the percentage. "
   ]
  },
  {
   "cell_type": "code",
   "execution_count": 116,
   "metadata": {
    "id": "mJe4pMRgwuC5"
   },
   "outputs": [
    {
     "name": "stdout",
     "output_type": "stream",
     "text": [
      "[('42.99%', '47.13%'), ('1.74%', '2.051%')]\n"
     ]
    }
   ],
   "source": [
    "import pandas as pd\n",
    "from pprint import pprint\n",
    "\n",
    "def insight2(filename,i1):\n",
    "    NSdf=pd.read_excel(filename,sheet_name=\"Sheet1\")\n",
    "    TRecPos=NSdf[\"totalpositivecases\"].iloc[0] #total recorded positive cases\n",
    "    finallist=[]\n",
    "    k=[]\n",
    "    v=[]\n",
    "    \n",
    "    for key,value in i1.items(): #separate keys and values\n",
    "        k.append(key)\n",
    "        v.append(value) \n",
    "    del k[1] #deletes death rate\n",
    "    del v[1] #same as above\n",
    "    \n",
    "    LDT,HDT=v[0] #unapcks the lower and high death estimate from the tuple\n",
    "    \n",
    "    LPC=(LDT-k[0])+TRecPos #lower postive case estimate\n",
    "    HPC=(HDT-k[0])+TRecPos #same as above but with higher estimates\n",
    "    \n",
    "    LDTPE=str(round(((LDT-k[0])/LDT),4)*100)+\"%\" #lower death total percent error \n",
    "    HDTPE=str(round(((HDT-k[0])/HDT),4)*100)+\"%\" #higher death total percent error\n",
    "    DTPETuple=(LDTPE,HDTPE)\n",
    "    finallist.append(DTPETuple)\n",
    "    \n",
    "    LPCPE=str(round(((LPC-TRecPos)/LPC)*100,2))+\"%\" #lower pos cases percent error\n",
    "    HPCPE=str(round(((HPC-TRecPos)/HPC),5)*100)+\"%\" #higher pos cases percent error\n",
    "    PCPETuple=(LPCPE,HPCPE)\n",
    "    finallist.append(PCPETuple)\n",
    "    \n",
    "    return finallist\n",
    "\n",
    "    pass\n",
    "\n",
    "\n",
    "############ Function Call ############\n",
    "pprint(insight2(\"NationalStats.xlsx\",i1=insight1(\"ExcessDeaths.xlsx\",\"NationalStats.xlsx\")))"
   ]
  },
  {
   "cell_type": "markdown",
   "metadata": {
    "id": "P08Se47bxG5d"
   },
   "source": [
    "### Insight 2 Explanation\n",
    "\n",
    "This insight returns a list of 2 tuples. The 1st tuple represents the lower and upper range of the percent error of the recorded number of deaths. These values were found by taking the values in tuple 1 from the first insight and subtracting each one by the recorded total number of deaths in 'NationalStats.xlsx' and then dividing the result by the first value. Each resulting value was then multiplied by 100 to get the percent error. The 2nd tuple represents the lower and upper range of the percent error of the recorded number of positive cases. The lower and upper positive case estimates were calculated by subtracting the actual number of deaths from the recorded number and then adding the recorded number of positive cases to the result. The percent error values were then calculated using the same process as the first tuple. The range of percent error in the recorded number of deaths and positive cases is very important because it shows that for any given recorded number of deaths/positive cases publicly released by the U.S. government, in actuality the number of deaths is anywhere from 42.99 % to 47.13 % greater and the number of positive cases is anywhere from 1.74 % to 2.051 % greater than what is being reported as of 11/08/2020. From these results, I can conclude that the number of positive cases being reported is generally pretty accurate while the total number of deaths are almost double for any given recorded amount."
   ]
  },
  {
   "cell_type": "code",
   "execution_count": 66,
   "metadata": {
    "id": "00EurEXJwvxf"
   },
   "outputs": [
    {
     "name": "stdout",
     "output_type": "stream",
     "text": [
      "              dateChecked  totalTestResults  totalpositivecases  \\\n",
      "0    2020-11-07T24:00:00Z         155357748             9761481   \n",
      "1    2020-11-06T24:00:00Z         154007204             9633085   \n",
      "2    2020-11-05T24:00:00Z         152473798             9507833   \n",
      "3    2020-11-04T24:00:00Z         150936584             9391680   \n",
      "4    2020-11-03T24:00:00Z         149729485             9288613   \n",
      "..                    ...               ...                 ...   \n",
      "216  2020-04-05T24:00:00Z           1865910              342028   \n",
      "217  2020-04-04T24:00:00Z           1745057              316420   \n",
      "218  2020-04-03T24:00:00Z           1517228              283453   \n",
      "219  2020-04-02T24:00:00Z           1382302              251684   \n",
      "220  2020-04-01T24:00:00Z           1259415              223647   \n",
      "\n",
      "     Tests per Positive Case  \n",
      "0                  15.915387  \n",
      "1                  15.987319  \n",
      "2                  16.036651  \n",
      "3                  16.071308  \n",
      "4                  16.119682  \n",
      "..                       ...  \n",
      "216                 5.455431  \n",
      "217                 5.515002  \n",
      "218                 5.352662  \n",
      "219                 5.492212  \n",
      "220                 5.631263  \n",
      "\n",
      "[221 rows x 4 columns]\n"
     ]
    }
   ],
   "source": [
    "import pandas as pd\n",
    "from pprint import pprint\n",
    "\n",
    "def insight3(filename):\n",
    "    NSdf=pd.read_excel(filename,sheet_name=\"Sheet1\")\n",
    "    NSdf.drop(NSdf.columns[1:10], axis=1,inplace=True)\n",
    "    NSdf.drop(NSdf.columns[2:8], axis=1,inplace=True)\n",
    "    NSdf.drop(NSdf.columns[-1], axis=1,inplace=True)\n",
    "    NSdf[\"Tests per Positive Case\"]=NSdf[\"totalTestResults\"]/NSdf[\"totalpositivecases\"]\n",
    "    NSdf.drop(NSdf.index[-34:],inplace=True)\n",
    "    return NSdf \n",
    "\n",
    "    pass\n",
    "    \n",
    "    \n",
    "############ Function Call ############\n",
    "pprint(insight3(\"NationalStats.xlsx\"))"
   ]
  },
  {
   "cell_type": "markdown",
   "metadata": {
    "id": "6QNP4yx2xHkT"
   },
   "source": [
    "### Insight 3 Explanation\n",
    "\n",
    "This insight returns a pandas dataframe. Each entry in the 'Tests per Positive Case' column holds a float representing the proportion of number of tests per positive case for each day. Because the COVID-19 infection rate is static(as far as we know),in order to gauge the response of the U.S. to the pandemic, I decided to see whether or not the number of tests proportionate to the number of positive cases is increasing over time to look at whether or not the U.S. has been adequately distributing a sufficient number of tests each day to accurately count the number of cases nationwide. I calculated each entry by dividing each value under the 'totalTestResults' column by each corresponding value under the 'totalpositivecases' column in 'NationalStats.xlsx'. Since insight 2 concluded that the percent error for the number of positive cases was minimal, I decided to keep the entries of the 'totalpositivecases' column as they were. I dropped all of February and March because they were obvious outliers. The virus was a novelty at the time and as a result, there were obviously many more tests available than positive cases. From this insight, I can conclude that the number of tests per positive cases continuously increased despite the rapid spike in cases over the past 8 months, but more tests could definitely be distributed."
   ]
  },
  {
   "cell_type": "code",
   "execution_count": 79,
   "metadata": {
    "id": "LUWgj50BwwKN"
   },
   "outputs": [
    {
     "name": "stdout",
     "output_type": "stream",
     "text": [
      "{'2020-04-01': ('$1708.34B', '31.31%')}\n"
     ]
    }
   ],
   "source": [
    "import pandas as pd\n",
    "from pprint import pprint \n",
    "\n",
    "def insight4(filename1,filename2):\n",
    "    finaldict={}\n",
    "    Ndf=pd.read_excel(filename1,sheet_name=\"Sheet1\")\n",
    "    Sdf=pd.read_excel(filename2,sheet_name=\"Sheet1\")\n",
    "    \n",
    "    Sdf.drop(Sdf.index[[0,1,8,15,21,29,42,47,53]],inplace=True)\n",
    "    stateavg=str(round(-(Sdf[\"2020Q2\"].mean()),2))+\"%\"\n",
    "    \n",
    "    RGDPlist=[]\n",
    "    for val in Ndf[\"RDGP(Billions of $)\"]:\n",
    "        RGDPlist.append(val)\n",
    "    \n",
    "    difflist=[]\n",
    "    for index,val in enumerate(RGDPlist):\n",
    "        diff=0\n",
    "        if index!=0:\n",
    "            diff=val-RGDPlist[index-1]\n",
    "            difflist.append(diff)\n",
    "            \n",
    "    ldecindex=difflist.index(min(difflist))\n",
    "    largestdec=\"$\"+str(round(-(min(difflist)),2))+\"B\" #absolute value of the largest decrease\n",
    "    \n",
    "    lqtr=Ndf[\"Date\"].iloc[ldecindex+1] #corresponding qtr\n",
    "    \n",
    "    finaldict[lqtr]=(largestdec,stateavg)  \n",
    "    return finaldict\n",
    "\n",
    "    pass\n",
    "\n",
    "\n",
    "############ Function Call ############\n",
    "pprint(insight4(\"NationalRGDP.xlsx\",\"StateRGDP%Change.xlsx\"))"
   ]
  },
  {
   "cell_type": "markdown",
   "metadata": {
    "id": "4Tv4xPG8xIIh"
   },
   "source": [
    "### Insight 4 Explanation\n",
    "\n",
    "This insight returns a dictionary with one pair. The pair represents the largest numeric/% decrease in national real GDP from one quarter to the next since 1947. The time frame of the decrease is the key and the numeric/percent value of the decrease in billions of 2012 U.S. dollars are the values represented by a single tuple. I calculated the first value in the tuple by finding all instances in 'NationalRGDP.xlsx' where a decrease in RDGP occurred and then took the max. The second value in the tuple is a float corresponding to the average % decrease (in the same time frame of the largest decrease) of all U.S. states in real GDP taken from StateRGDP%Change.xlsx'. This statistic puts the severity of the economic impact of the virus into perspective as the quarter where the largest (%)decrease of real GDP occurred(at both a state and national level) was at its highest in almost 75 years, happened at the same time the pandemic was reaching its peak/the months with enforced lockdown.(https://www.thetimesusa.com/2020/04/05/a-state-by-state-overview-of-the-coronavirus-lockdown/)"
   ]
  },
  {
   "cell_type": "code",
   "execution_count": 49,
   "metadata": {
    "id": "-2YUtUESwwgv"
   },
   "outputs": [
    {
     "name": "stdout",
     "output_type": "stream",
     "text": [
      "{'2020-04-01': 14.7, '2020-05-01': 13.3, '2020-06-01': 11.1}\n"
     ]
    }
   ],
   "source": [
    "import pandas as pd\n",
    "from pprint import pprint\n",
    "\n",
    "def insight5(filename):\n",
    "    URdf=pd.read_excel(filename,sheet_name=\"Sheet1\")\n",
    "    \n",
    "    URmaxdate=[]\n",
    "    URmaxval=[]\n",
    "    \n",
    "    fmval=URdf[\"UNRATE\"].max()\n",
    "    fmvalindex=URdf[URdf[\"UNRATE\"]==fmval].index\n",
    "    fmdate=URdf[\"DATE\"].iloc[fmvalindex]\n",
    "    URmaxdate.append(fmdate.iloc[0])\n",
    "    URmaxval.append(fmval)\n",
    "    URdf.drop(URdf[URdf[\"UNRATE\"]==fmval].index,inplace=True)\n",
    "    URdf.drop(URdf[URdf[\"DATE\"]==fmdate.iloc[0]].index,inplace=True)\n",
    "    \n",
    "    smval=URdf[\"UNRATE\"].max()\n",
    "    smvalindex=URdf[URdf[\"UNRATE\"]==smval].index-1\n",
    "    smdate=URdf[\"DATE\"].iloc[smvalindex]\n",
    "    URmaxdate.append(smdate.iloc[0])\n",
    "    URmaxval.append(smval)\n",
    "    URdf.drop(URdf[URdf[\"UNRATE\"]==smval].index,inplace=True)\n",
    "    \n",
    "    tmval=URdf[\"UNRATE\"].max()\n",
    "    tmvalindex=URdf[URdf[\"UNRATE\"]==tmval].index-2\n",
    "    tmdate=URdf[\"DATE\"].iloc[tmvalindex]\n",
    "    URmaxdate.append(tmdate.iloc[0])\n",
    "    URmaxval.append(tmval)\n",
    "    URdf.drop(URdf[URdf[\"UNRATE\"]==tmval].index,inplace=True)\n",
    "    \n",
    "    finaldict={date:rate for date,rate in zip(URmaxdate,URmaxval)}\n",
    "    \n",
    "    return finaldict\n",
    "\n",
    "    pass\n",
    "\n",
    "\n",
    "############ Function Call ############\n",
    "pprint(insight5(\"NationalUR%LF.xlsx\"))"
   ]
  },
  {
   "cell_type": "markdown",
   "metadata": {
    "id": "JabcFGP9xIyn"
   },
   "source": [
    "### Insight 5 Explanation\n",
    "\n",
    "This insight returns a dictionary. The dictionary shows the scale of the impact of COVID-19 on the U.S. economy by returning the top 3 months with the highest national unemployment since 1948(keys) and the corresponding unemployment rates(values). I found the top 3 months by finding the max of the 'UNRATE' column in 'NationalUR%LF.xlsx' three times and appending each max to a list after finding each max. Similar to the previous insight, this statistic also conveys the detrimental impact of the virus on the economy, as the 3 months where the national unemployment rate was at its highest in almost the last 75 years of U.S. history occurred when the rate of cases was the highest/most states enforced lockdown.(https://www.thetimesusa.com/2020/04/05/a-state-by-state-overview-of-the-coronavirus-lockdown/)"
   ]
  },
  {
   "cell_type": "markdown",
   "metadata": {
    "id": "xN58r5MNxN4m"
   },
   "source": [
    "## Data Visualizations"
   ]
  },
  {
   "cell_type": "code",
   "execution_count": 37,
   "metadata": {
    "id": "stKXZGSnxS0f"
   },
   "outputs": [
    {
     "data": {
      "image/png": "[encoded data removed]",
      "text/plain": [
       "<Figure size 432x288 with 1 Axes>"
      ]
     },
     "metadata": {
      "needs_background": "light"
     },
     "output_type": "display_data"
    },
    {
     "name": "stdout",
     "output_type": "stream",
     "text": [
      "None\n"
     ]
    }
   ],
   "source": [
    "from datetime import datetime\n",
    "import pandas as pd\n",
    "import re\n",
    "import matplotlib.pyplot as plt\n",
    "import matplotlib \n",
    "from pprint import pprint\n",
    "\n",
    "def visual1(filename):\n",
    "    NSdf=pd.read_excel(filename,sheet_name=\"Sheet1\")\n",
    "    \n",
    "    datelist=[]\n",
    "    fdatelist=[]\n",
    "    xticks=[]\n",
    "    dtxticks=[]\n",
    "    dtobjlist=[]\n",
    "        \n",
    "    for date in NSdf[\"dateChecked\"]:\n",
    "        datelist.append(date)\n",
    "        \n",
    "    for date in datelist:\n",
    "        m=re.search(r\"(.*?)T24:00:00Z\",date) #removes hours and seconds\n",
    "        f=m.group(1)\n",
    "        fdatelist.append(f)\n",
    "    \n",
    "    for date in fdatelist:\n",
    "        if date[-1]==\"1\" and date[-2]==\"0\":\n",
    "            xticks.append(date)\n",
    "            \n",
    "    for date in xticks:\n",
    "        dtobj = datetime.strptime(date, '%Y-%m-%d')\n",
    "        dtxticks.append(dtobj)\n",
    "        \n",
    "    for date in fdatelist:\n",
    "        dtobj = datetime.strptime(date, '%Y-%m-%d')\n",
    "        dtobjlist.append(dtobj)\n",
    "       \n",
    "    dates = matplotlib.dates.date2num(dtobjlist)\n",
    "    \n",
    "    plt.plot_date(dates, NSdf['positiveIncrease'],color = 'blue',label = \"# of Positive Cases per Day\")\n",
    "    plt.plot_date(dates, NSdf['deathIncrease'],color = 'red',label = \"# of Deaths per Day\")\n",
    "    plt.plot_date(dates, NSdf['hospitalizedIncrease'],color = 'green',label = \"# of Hospitalizations per Day\")\n",
    "    plt.xticks(dtxticks)\n",
    "    plt.xticks(rotation=45)\n",
    "    plt.xlabel('Month')\n",
    "    plt.ylabel('Reported Number')\n",
    "    plt.title('United States COVID-19 Statistics as of 11/08/2020')\n",
    "    plt.show()\n",
    "        \n",
    "    \n",
    "    pass\n",
    "    \n",
    "    \n",
    "############ Function Call ############\n",
    "pprint(visual1(\"NationalStats.xlsx\"))"
   ]
  },
  {
   "cell_type": "markdown",
   "metadata": {
    "id": "-CDB8hXwxgSB"
   },
   "source": [
    "### Visualization 1 Explanation\n",
    "\n",
    "This scatter plot is made up of 3 subplots. The blue scatterplot represents the national increase in number of COVID-19 cases every day since February 27th. From this plot, I can see that there are 3 main \"waves\" of virus: the first from February to mid April, the second from June to mid July, and the third from September to now. Each wave has significantly more cases per day than the last which makes sense because as more people become infected, the number of infections proportionally per day will rise. The most recent wave began at the same time schools reopened for the fall semester, and as of now the virus has yet to reach its peak. A major concern worldwide is whether or not the virus will mutate over time. This could drastically affect the current infection rates, death rates, and time spend in lockdown. However, the increase from one wave to the next does not rise abnormally in proportion to the previous wave. Therefore, I can conclude that the infection rate of the virus remains static. The red scatterplot represents the numbers of COVID-19 deaths per day and the green scatterplot represents the number of COVID-19 hospitalizations per day. However, since the number of deaths and hospitalizations remained virtually the same over the past 3 waves of the virus, this means that its lethality has not changed either. Because the infection rate, death rate, and hospitalization rate of COVID-19 has remained roughly the same over the last 9 months, I can conclude that virus has not mutated."
   ]
  },
  {
   "cell_type": "code",
   "execution_count": 38,
   "metadata": {
    "id": "vACib_mBxW0E"
   },
   "outputs": [
    {
     "data": {
      "image/png": "[encoded data removed]",
      "text/plain": [
       "<Figure size 432x288 with 1 Axes>"
      ]
     },
     "metadata": {
      "needs_background": "light"
     },
     "output_type": "display_data"
    },
    {
     "name": "stdout",
     "output_type": "stream",
     "text": [
      "None\n"
     ]
    }
   ],
   "source": [
    "from datetime import datetime\n",
    "import pandas as pd\n",
    "import re\n",
    "import matplotlib.pyplot as plt\n",
    "import matplotlib\n",
    "from pprint import pprint\n",
    "\n",
    "def visual2(filename1,filename2,filename3):\n",
    "    NSdf=pd.read_excel(filename1,sheet_name=\"Sheet1\")\n",
    "    SRGDPdf=pd.read_excel(filename2,sheet_name=\"Sheet1\")\n",
    "    SURdf=pd.read_excel(filename3, sheet_name=\"Sheet1\")\n",
    "    \n",
    "    monthur=[]\n",
    "    urdates=['2020-01-01','2020-02-01','2020-03-01','2020-04-01','2020-05-01','2020-06-01','2020-07-01','2020-08-01','2020-09-01']\n",
    "    dtur=[]\n",
    "    qtravgrgdp=[]\n",
    "    qtrdates=['2020-01-01','2020-04-01']\n",
    "    dtqtr=[]\n",
    "    datelist=[]\n",
    "    fdatelist=[]\n",
    "    xticks=['2020-01-01','2020-02-01','2020-03-01','2020-04-01','2020-05-01','2020-06-01','2020-07-01','2020-08-01','2020-09-01','2020-10-01','2020-11-01']\n",
    "    dtxticks=[]\n",
    "    dtobjlist=[]\n",
    "        \n",
    "    \n",
    "    SURdf.drop(SURdf.index[[-1]],inplace=True) #removes Puerto Rico\n",
    "    janur=round(SURdf[\"Jan.\"].mean(),2)\n",
    "    monthur.append(janur)\n",
    "    febur=round(SURdf[\"Feb.\"].mean(),2)\n",
    "    monthur.append(febur)\n",
    "    marur=round(SURdf[\"March\"].mean(),2)\n",
    "    monthur.append(marur)\n",
    "    aprur=round(SURdf[\"April\"].mean(),2)\n",
    "    monthur.append(aprur)\n",
    "    mayur=round(SURdf[\"May\"].mean(),2)\n",
    "    monthur.append(mayur)\n",
    "    juneur=round(SURdf[\"June\"].mean(),2)\n",
    "    monthur.append(juneur)\n",
    "    julyur=round(SURdf[\"July\"].mean(),2)\n",
    "    monthur.append(julyur)\n",
    "    augur=round(SURdf[\"Aug.\"].mean(),2)\n",
    "    monthur.append(augur)\n",
    "    septur=round(SURdf[\"Sept.\"].mean(),2)\n",
    "    monthur.append(septur)\n",
    "    \n",
    "    SRGDPdf.drop(SRGDPdf.index[[0,1,8,15,21,29,42,47,53]],inplace=True)\n",
    "    srgdpavgQ1=round(-(SRGDPdf[\"2020Q1\"].mean()),2)\n",
    "    qtravgrgdp.append(srgdpavgQ1)\n",
    "    srgdpavgQ2=round(-(SRGDPdf[\"2020Q2\"].mean()),2)\n",
    "    qtravgrgdp.append(srgdpavgQ2)\n",
    "    \n",
    "    NSdf['positiveIncrease']=round(NSdf['positiveIncrease']/10000,2)\n",
    "    \n",
    "    for date in NSdf[\"dateChecked\"]:\n",
    "        datelist.append(date)\n",
    "        \n",
    "    for date in datelist:\n",
    "        m=re.search(r\"(.*?)T24:00:00Z\",date) #removes hours and seconds\n",
    "        f=m.group(1)\n",
    "        fdatelist.append(f)\n",
    "\n",
    "    for date in xticks:\n",
    "        dtobj = datetime.strptime(date, '%Y-%m-%d')\n",
    "        dtxticks.append(dtobj)\n",
    "    \n",
    "    for date in urdates:\n",
    "        dtobj = datetime.strptime(date, '%Y-%m-%d')\n",
    "        dtur.append(dtobj)\n",
    "    \n",
    "    for date in qtrdates:\n",
    "        dtobj = datetime.strptime(date, '%Y-%m-%d')\n",
    "        dtqtr.append(dtobj)\n",
    "    \n",
    "    for date in fdatelist:\n",
    "        dtobj = datetime.strptime(date, '%Y-%m-%d')\n",
    "        dtobjlist.append(dtobj)\n",
    "       \n",
    "    dates = matplotlib.dates.date2num(dtobjlist)\n",
    "    \n",
    "   \n",
    "    plt.plot_date(dates, NSdf['positiveIncrease'],color = 'red',label = \"# of Positive Cases per Day(In tens of thousands of cases)\")\n",
    "    plt.plot_date(dtur, monthur,color = 'blue',label = \"Avg State UR\",linestyle='solid')\n",
    "    plt.plot_date(dtqtr, qtravgrgdp,color = 'green',label = \"Avg State % Dec in RGDP\",linestyle='solid')\n",
    "    plt.xticks(dtxticks)\n",
    "    plt.xticks(rotation=45)\n",
    "    plt.xlabel('Month')\n",
    "    plt.ylabel('Reported Statistic')\n",
    "    plt.title('United States 2020 Avg State UR and % Dec in RGDP vs # of Positive Cases per Day' )\n",
    "    plt.show()\n",
    "     \n",
    "    pass\n",
    "\n",
    "\n",
    "############ Function Call ############\n",
    "pprint(visual2(\"NationalStats.xlsx\",\"StateRGDP%Change.xlsx\",\"StateUR%LF.xlsx\"))"
   ]
  },
  {
   "cell_type": "markdown",
   "metadata": {
    "id": "hbq6zDSuxg3b"
   },
   "source": [
    "### Visualization 2 Explanation\n",
    "This plot is made up of 3 subplots. The red scatter plot represents the national increase in number of COVID-19 cases every day since February 27th. The number of positive cases per day are scaled down by a factor of 10,000(in tens of thousands of cases per day) to offer a better visualization in comparison to the average state unemployment rate and % decrease in RGDP, both of which are percentages. The blue line graph represents the average state unemployment rate as a percentage of the civilian work force from Jan. 2020 to Sept. 2020. I calculated these values by averaging each column(month) in 'StateUR%LF.xlsx'. From this line graph, we can see that from Jan. to March, the average state UR remained consistently under 5% and then skyrocketed up to almost 15% at the beginning of April. This follows the same timeline as the 1st wave of COVID-19 and lockdowns(https://www.thetimesusa.com/2020/04/05/a-state-by-state-overview-of-the-coronavirus-lockdown/). Although the UR peaked in April and continued to slowly fall over the rest of the year, this is highly due to the end of most state lockdowns and the slow reopening of the economy. However, the economic effects of COVID-19 can still to be seen through the following months as UR rates remain well above 5% in contrast to the 3 months prior to the virus. The green line graph represents the quarterly percent decrease in average state RGDP from 2020 Q1 to 2020 Q2(Jan. through April). These values from found in the same way as the blue line graph from 'StateRGDP%Change.xlsx'. From this line graph, we can see that from 2019 Q4 to 2020 Q1, the average state RGDP decreased only by 5%. However, from Jan. to April, the average state RGDP % percent decrease rose by over 600 %. This follows the same timeline as the 1st wave of COVID 19(end of Feb. to April), and matches the historically high state average unemployment rate the same month. From analyzing all three plots, I can conclude that the increase average state unemployment rate and % decrease in RGDP were directly related to the timing of the introduction of the virus.\n"
   ]
  },
  {
   "cell_type": "code",
   "execution_count": 64,
   "metadata": {
    "id": "mOyKClx1xXOt"
   },
   "outputs": [
    {
     "data": {
      "image/png": "[encoded data removed]",
      "text/plain": [
       "<Figure size 432x288 with 1 Axes>"
      ]
     },
     "metadata": {
      "needs_background": "light"
     },
     "output_type": "display_data"
    },
    {
     "name": "stdout",
     "output_type": "stream",
     "text": [
      "None\n"
     ]
    }
   ],
   "source": [
    "from datetime import datetime\n",
    "import pandas as pd\n",
    "import matplotlib.pyplot as plt\n",
    "import matplotlib\n",
    "from pprint import pprint\n",
    "\n",
    "def visual3(filename1,filename2):\n",
    "    NRGDPdf=pd.read_excel(filename1,sheet_name=\"Sheet1\")\n",
    "    NURdf=pd.read_excel(filename2,sheet_name=\"Sheet1\")\n",
    "    \n",
    "    RGDPdatelist=[]\n",
    "    RGDPdt=[]\n",
    "    URdatelist=[]\n",
    "    URdt=[]\n",
    "    xticks=[]\n",
    "    dtxticks=[]\n",
    "    dtobjlist=[]\n",
    "    \n",
    "    for date in NURdf['DATE']:\n",
    "        URdatelist.append(date)\n",
    "    \n",
    "    for date in URdatelist:\n",
    "        dtobj = datetime.strptime(date, '%Y-%m-%d')\n",
    "        URdt.append(dtobj)\n",
    "    \n",
    "    NRGDPdf['RDGP(Billions of $)']=NRGDPdf['RDGP(Billions of $)']/1000 #converts to trillions of dollars\n",
    "    \n",
    "    for date in NRGDPdf['Date']:\n",
    "        RGDPdatelist.append(date)\n",
    "    \n",
    "    for date in RGDPdatelist:\n",
    "        dtobj = datetime.strptime(date, '%Y-%m-%d')\n",
    "        RGDPdt.append(dtobj)\n",
    "        \n",
    "    for date in RGDPdatelist:\n",
    "        if date=='1947-01-01' or date=='1957-01-01' or date=='1967-01-01' or date=='1977-01-01' or date=='1987-01-01' or date =='1997-01-01' or date=='2007-01-01' or date=='2017-01-01':\n",
    "            xticks.append(date)\n",
    "    \n",
    "    for date in xticks:\n",
    "        dtobj = datetime.strptime(date, '%Y-%m-%d')\n",
    "        dtxticks.append(dtobj)\n",
    "    \n",
    "    plt.plot_date(URdt, NURdf['UNRATE'],color = 'red',label = \"National UR\")\n",
    "    plt.plot_date(RGDPdt, NRGDPdf['RDGP(trillions of $)'],color = 'blue',label = \"National RDGP\")\n",
    "    plt.xticks(dtxticks)\n",
    "    plt.xticks(rotation=45)\n",
    "    plt.xlabel('Year')\n",
    "    plt.ylabel('Reported Statistic')\n",
    "    plt.title('United States National UR and RGDP(trillions of 2012 US dollars) since 1947' )\n",
    "    plt.show()\n",
    "    \n",
    "    pass\n",
    "\n",
    "\n",
    "############ Function Call ############\n",
    "pprint(visual3(\"NationalRGDP.xlsx\",\"NationalUR%LF.xlsx\"))"
   ]
  },
  {
   "cell_type": "markdown",
   "metadata": {
    "id": "YLZvX6Plxhhs"
   },
   "source": [
    "### Visualization 3 Explanation\n",
    "This plot is made up of 2 subplots. The red scatter plot represents the national unemployment rate for every month since 1948. This plot supports insight 5 by providing a visual to show that the top 3 months with the highest unemployment rate in almost the last 75 years of U.S. history occurred during the first to second wave to COVID-19 and when most states enforced lockdown. We can see this by comparing these months to trends in visualization 1 and 2 and from https://www.thetimesusa.com/2020/04/05/a-state-by-state-overview-of-the-coronavirus-lockdown/. The blue scatter plot represents the national RGDP in trillions of dollars each quarter since 1947. The RGDP is scaled down by a factor of 1000(in trillions of 2012 US dollars) from billions of dollars to offer a better visualization in comparison to the national UR which is a percentage. This plot supports insight 4 by providing a visual to show that the largest decrease in RGDP occurred from 2020 Q1 to 2020 Q2. Visualization 2 also supports this visualization and insight 4 as the average state RGDP % percent decrease rose by over 600 % in conjunction with this statistic. From this visualization and insight 4 and 5, I can conclude that COVID-19 resulted in the highest unemployment rates and  decrease in RGDP on both a state and national level in almost the last 75 years."
   ]
  },
  {
   "cell_type": "markdown",
   "metadata": {
    "id": "vw5PqFI8xs0B"
   },
   "source": [
    "## Summary Files"
   ]
  },
  {
   "cell_type": "code",
   "execution_count": 71,
   "metadata": {
    "id": "1U36oIX5xvlR"
   },
   "outputs": [
    {
     "name": "stdout",
     "output_type": "stream",
     "text": [
      "None\n"
     ]
    }
   ],
   "source": [
    "from pprint import pprint\n",
    "\n",
    "def summary1(i3):\n",
    "    i3.to_excel(r'C:\\Users\\wkimm\\OneDrive\\Documents\\GT Fall 2020\\CS 2316\\Final Project\\Summary1(Insight 3).xlsx',index=False,header=True) #writes df to excel file\n",
    "\n",
    "    pass\n",
    "\n",
    "\n",
    "############ Function Call ############\n",
    "pprint(summary1(i3=insight3(\"NationalStats.xlsx\")))"
   ]
  },
  {
   "cell_type": "code",
   "execution_count": 119,
   "metadata": {
    "id": "2xv62MBpxzT7"
   },
   "outputs": [
    {
     "name": "stdout",
     "output_type": "stream",
     "text": [
      "None\n"
     ]
    }
   ],
   "source": [
    "import pandas as pd\n",
    "from pprint import pprint\n",
    "def summary2(filename):\n",
    "    ACdf=pd.read_excel(filename,sheet_name=\"AllCauses\")\n",
    "    ECdf=pd.read_excel(filename,sheet_name=\"ExceptCOVID\")\n",
    "    \n",
    "    statelist=[]\n",
    "    ACLow=[]\n",
    "    ACHigh=[]\n",
    "    ECLow=[]\n",
    "    ECHigh=[]\n",
    "    \n",
    "    for state in ACdf['State']:\n",
    "        if state!=\"United States\" and (state not in statelist):\n",
    "            statelist.append(state)\n",
    "    \n",
    "    for val in ACdf[\"Total Excess Lower Estimate in 2020\"]:\n",
    "        if val not in ACLow:\n",
    "            ACLow.append(val)\n",
    "    ACLow.remove(231952)\n",
    "    \n",
    "    \n",
    "    for val in ACdf[\"Total Excess Higher Estimate in 2020\"]:\n",
    "        if val not in ACHigh:\n",
    "            ACHigh.append(val)\n",
    "    ACHigh.remove(311882)\n",
    "    ACHigh.insert(37,2097)\n",
    "    \n",
    "    for val in ECdf[\"Total Excess Lower Estimate in 2020\"]:\n",
    "        if val not in ECLow:\n",
    "            ECLow.append(val)\n",
    "    ECLow.remove(33782)\n",
    "    ECLow.insert(35,9)\n",
    "    ECLow.insert(47,89)\n",
    "    ECLow.insert(51,34)\n",
    "        \n",
    "    for val in ECdf[\"Total Excess Higher Estimate in 2020\"]:\n",
    "        if val not in ECHigh:\n",
    "            ECHigh.append(val)\n",
    "    ECHigh.remove(108102)\n",
    "    \n",
    "    CRDLow=[a-e for a,e in zip(ACLow,ECLow)]    \n",
    "    CRDHigh=[a-e for a,e in zip(ACHigh,ECHigh)]\n",
    "    \n",
    "            \n",
    "    d={\"State\":statelist,\"Lower Estimate for All Causes\":ACLow, \"Higher Estimate for All Causes\":ACHigh, \"Lower Estimate for Except COVID\":ECLow, \"Higher Estimate for Except COVID\":ECHigh,\"Lower Estimate for Excess COVID\":CRDLow, \"Higher Estimate for Excess COVID\":CRDHigh}\n",
    "    newdf=pd.DataFrame(d)\n",
    "    newdf.to_excel(r'C:\\Users\\wkimm\\OneDrive\\Documents\\GT Fall 2020\\CS 2316\\Final Project\\Summary2(Insight 1).xlsx',index=False,header=True) #writes df to excel file\n",
    "\n",
    "    pass\n",
    "\n",
    "    \n",
    "############ Function Call ############\n",
    "pprint(summary2(\"ExcessDeaths.xlsx\"))"
   ]
  },
  {
   "cell_type": "markdown",
   "metadata": {
    "id": "kd74HqEPx8zh"
   },
   "source": [
    "# Cited Sources\n",
    "\n",
    "If you used any additional sources to complete your Data Analysis section, list them here:\n",
    "\n",
    " \n",
    "*   https://www.thetimesusa.com/2020/04/05/a-state-by-state-overview-of-the-coronavirus-lockdown/ \n",
    "\n",
    "\n",
    "\n"
   ]
  },
  {
   "cell_type": "markdown",
   "metadata": {
    "id": "iuYbFQplyXK2"
   },
   "source": [
    "# Video Presentation\n",
    "\n",
    "If you uploaded your Video Presentation to Bluejeans, YouTube, or any other streaming services, please provide the link here:\n",
    "\n",
    "\n",
    "*   https://bluejeans.com/s/1gH44dr6nin/\n",
    "\n",
    "\n",
    "Make sure the video sharing permissions are accessible for anyone with the provided link."
   ]
  }
 ],
 "metadata": {
  "colab": {
   "collapsed_sections": [],
   "name": "PhaseII.ipynb",
   "provenance": []
  },
  "kernelspec": {
   "display_name": "Python 3",
   "language": "python",
   "name": "python3"
  },
  "language_info": {
   "codemirror_mode": {
    "name": "ipython",
    "version": 3
   },
   "file_extension": ".py",
   "mimetype": "text/x-python",
   "name": "python",
   "nbconvert_exporter": "python",
   "pygments_lexer": "ipython3",
   "version": "3.8.3"
  }
 },
 "nbformat": 4,
 "nbformat_minor": 1
}
